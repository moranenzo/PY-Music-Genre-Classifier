{
 "cells": [
  {
   "cell_type": "markdown",
   "metadata": {},
   "source": [
    "# Introduction"
   ]
  },
  {
   "cell_type": "markdown",
   "metadata": {},
   "source": [
    "Ce notebook présente une approche pour déterminer le genre d'une musique à travers les caractéristiques fournies par l'API spotify en utilisant des algorithmes de Machine Learning. Ce projet s'intègre dans le cadre du cours Python pour la Data Science de l'ENSAE Paris. Il a été mené par Tom Laflotte, Enzo Moran et Martin Conte."
   ]
  },
  {
   "cell_type": "markdown",
   "metadata": {},
   "source": [
    "Il suit le plan suivant:\n",
    "\n",
    "I. Une première approche via l'API Spotify\n",
    "\n",
    "1. Collecte des données\n",
    "\n",
    "    a. Constitution d'un premier dataset\n",
    "    \n",
    "    b. Collecte du genre des artistes\n",
    "\n",
    "2. Visualisation\n",
    "\n",
    "II. Prédiction à l'aide d'une base de données Kaggle \n"
   ]
  },
  {
   "cell_type": "markdown",
   "metadata": {},
   "source": [
    "# I. Une première approche via l'API Spotify"
   ]
  },
  {
   "cell_type": "markdown",
   "metadata": {},
   "source": [
    "Tout d'abord nous devons importer toutes les librairies qui nous seront nécessaires pour cette partie"
   ]
  },
  {
   "cell_type": "code",
   "execution_count": null,
   "metadata": {},
   "outputs": [],
   "source": [
    "!pip install spotipy"
   ]
  },
  {
   "cell_type": "code",
   "execution_count": 3,
   "metadata": {},
   "outputs": [],
   "source": [
    "import spotipy\n",
    "from spotipy.oauth2 import SpotifyClientCredentials\n",
    "import csv\n",
    "import time"
   ]
  },
  {
   "cell_type": "markdown",
   "metadata": {},
   "source": [
    "## I.1. Collecte des données"
   ]
  },
  {
   "cell_type": "markdown",
   "metadata": {},
   "source": [
    "Nous avons d'abord essayé de créer une base de données grâce à l'API Spotify."
   ]
  },
  {
   "cell_type": "markdown",
   "metadata": {},
   "source": [
    "### I.1.a. Constitution d'un premier dataset"
   ]
  },
  {
   "cell_type": "markdown",
   "metadata": {},
   "source": [
    "Spotify ne met pas à disposition une quelconque base de donnée déjà constituée. Nous allons donc devoir faire des requêtes successives à l'API pour récolter les informations sur les morceaux choisis, afin de constituer notre premier dataset. Chaque requête permet d'obtenir les metadonnées d'un artiste donné, ou d'une playlist donnée. C'est ce que nous avons choisi de faire.\n",
    "\n",
    "Pour minimiser le nombre de requêtes, nous sélectionnons une playlist de 10 000 morceaux déjà faite par un utilisateur Spotify, afin d'obtenir des informations sur chaque morceau qui la compose : titre, id, artist, artist_id. Ensuite, nous récupérons les informations qui nous intéressent sur chaque morceau : les track features, qui sont un tas d'indices quantitatifs Enfin, nous récupérons le genre qui n'est associé qu'à l'artiste, et pas au morceau. C'est ici une limite préoccupante : le genre qui est la variable à prédire n'est en fait que le genre de l'artiste et pas le genre véritable du morceau.\n",
    "\n",
    "D'abord, on initialise le client Spotify pour l'obtention des données via l'API grâce au token d'accès."
   ]
  },
  {
   "cell_type": "code",
   "execution_count": 4,
   "metadata": {},
   "outputs": [],
   "source": [
    "def spotify_client():\n",
    "    \"\"\"\n",
    "    Initialize the Spotify API client with client credentials.\n",
    "    Returns an authenticated Spotify client.\n",
    "    \"\"\"\n",
    "    return spotipy.Spotify(auth_manager=SpotifyClientCredentials(\n",
    "        client_id=\"d666ee3ae4c94b85945c3dba39776f4f\",\n",
    "        client_secret=\"c1973a77acbe48c0b2f105e4f57d7d46\" \n",
    "    ))"
   ]
  },
  {
   "cell_type": "markdown",
   "metadata": {},
   "source": [
    "Ensuite, nous utilisons ce client pour notre requête sur la playlist de 10 000 morceaux.\n",
    "\n",
    "Nous entrons l'id de la playlist en question. Nous récupérons les informations de la playlist relatives aux morceaux dans get_all_playlist_tracks. Avec les informations obtenues précédemment, nous créons avec get_track_id_and_artist un dataframe qui pour chaque morceau de la playlist en donne le titre, l'id, l'artist, l'artist id.\n",
    "\n",
    "Notre objectif final est d'obtenir un fichier csv compilant toutes les données fournies par l'API de Spotify dans un fichier csv.\n",
    "Voici la fonction réalisant cette tache :"
   ]
  },
  {
   "cell_type": "code",
   "execution_count": 5,
   "metadata": {},
   "outputs": [],
   "source": [
    "def get_playlists_data_to_csv(playlist_ids):\n",
    "    \"\"\"This function allows to fetch the data from different playlists into a csv\n",
    "    Params:\n",
    "        - playlist_ids: a list of playlists we want to fetch our data from\n",
    "    \"\"\"\n",
    "    names=[]\n",
    "    track_data=[]\n",
    "    file_name=''\n",
    "    for playlist in playlist_ids: \n",
    "        print(f\"Fetching playlist {playlist} tracks...\")\n",
    "        tracks = fetch_playlist_tracks(playlist)\n",
    "        print(\"Fetching track data...\")\n",
    "        track_data+=(fetch_track_data(tracks))\n",
    "    for id in playlist_ids:\n",
    "        names.append(spotify_client().playlist(id)['name'])\n",
    "    for name in names:\n",
    "        file_name+=name+'+'\n",
    "    file_name=file_name[:-1]\n",
    "    print(file_name)\n",
    "    if track_data:\n",
    "        save_to_csv(track_data, f\"playlists_{file_name}_data.csv\")\n",
    "    else:\n",
    "        print(\"No data to save.\")"
   ]
  },
  {
   "cell_type": "markdown",
   "metadata": {},
   "source": [
    "Détaillons cette fonction, la fonction fetch_playlist_tracks est définie ci-dessous permet l'obtention d'informations identifiant l'ensemble des musiques d'une playlist."
   ]
  },
  {
   "cell_type": "code",
   "execution_count": 6,
   "metadata": {},
   "outputs": [],
   "source": [
    "def fetch_playlist_tracks(playlist_id):\n",
    "    \"\"\"\n",
    "    Fetch all tracks from a Spotify playlist. \n",
    "    Params:\n",
    "        -playlist_id: Spotify playlist ID.\n",
    "    Returns a list of dictionaries containing track details.\n",
    "    \"\"\"\n",
    "    tracks = []\n",
    "    results = spotify_client().playlist_tracks(playlist_id)\n",
    "    while results:\n",
    "        for item in results['items']:\n",
    "            track = item['track']\n",
    "            if track:  # Ensure the track is not None\n",
    "                tracks.append(track)\n",
    "        results = spotify_client().next(results) if results['next'] else None\n",
    "    return tracks"
   ]
  },
  {
   "cell_type": "markdown",
   "metadata": {},
   "source": [
    "Il faut également obtenir le genre de l'artiste que nous assimilerons dans un premier temps à celui de la musique. Ici, nous ne sélectionnons que le genre principal de l'artiste pour plus de simplicité"
   ]
  },
  {
   "cell_type": "code",
   "execution_count": 7,
   "metadata": {},
   "outputs": [],
   "source": [
    "def fetch_artist_genre(track):\n",
    "    \"\"\"This function fetches the genre of an artist with a track from this artist, it will be \n",
    "    considerated as the genre of the song later\n",
    "\n",
    "    Args:\n",
    "        track a dict the countains infos about the track\n",
    "\n",
    "    Returns: genre a string that is the genre of an artist\n",
    "        \n",
    "    \"\"\"\n",
    "    artist=track['artists'][0]['id']\n",
    "    if spotify_client().artist(artist)['genres'] != []:\n",
    "        return spotify_client().artist(artist)['genres'][0]\n",
    "    else:\n",
    "        return 'N/A'"
   ]
  },
  {
   "cell_type": "markdown",
   "metadata": {},
   "source": [
    "On peut alors obtenir l'ensemble des informations relatives à chaque musique utiles à l'analyse (dansabilité, tempo...) via la fonction `fetch_track_data`. Du fait des restrictions de requêtes imposées par l'API de spotify, nous avons mis en place des requêtes par paquets de 100 chansons suivi d'une pause d'une minute, cette approche nous a permis de constituer une première base de données de 1500 musiques, en répétant ce procédé sur une plus longue période, il serait possible d'obtenir les données de l'ensemble de la playlist mais comme nous le détaillerons plus tard, nous n'avons pas retenu cette approche et nous contenterons de la base de données intermédiaire."
   ]
  },
  {
   "cell_type": "code",
   "execution_count": 8,
   "metadata": {},
   "outputs": [],
   "source": [
    "def fetch_track_data(tracks):\n",
    "    \"\"\"\n",
    "    Fetch metadata and audio features for each track in the playlist.\n",
    "    Params:\n",
    "        -tracks: List of tracks from the playlist.\n",
    "    Returns a list of dictionaries containing track metadata and audio features.\n",
    "    \"\"\"\n",
    "    track_data = []\n",
    "    i=0\n",
    "    j=0\n",
    "    for track in tracks:\n",
    "        track_id = track['id']\n",
    "        i+=1\n",
    "        print(i)\n",
    "        audio_features = spotify_client().audio_features([track_id])[0]\n",
    "        genre=fetch_artist_genre(track)\n",
    "        if audio_features: \n",
    "            artist_name = \", \".join([artist['name'] for artist in track['artists']])\n",
    "            dict_track={\"track Name\": track['name'],\n",
    "                \"artists\": artist_name,\n",
    "                \"track_id\": track_id,\n",
    "                \"popularity\": track['popularity'],\n",
    "                \"duration_ms\": track['duration_ms'],\n",
    "                \"explicit\": track['explicit'], 'genre': genre}\n",
    "            for key in audio_features.keys():\n",
    "                dict_track[key]=audio_features[key]\n",
    "            track_data.append(dict_track)\n",
    "        if i==100:\n",
    "            j+=1\n",
    "            save_to_csv(track_data, f\"intermédiaire{j}\")\n",
    "            i=0\n",
    "            time.sleep(60)\n",
    "    return track_data\n"
   ]
  },
  {
   "cell_type": "markdown",
   "metadata": {},
   "source": [
    "Il ne reste plus qu'à sauvegarder le tout au format csv: "
   ]
  },
  {
   "cell_type": "code",
   "execution_count": 9,
   "metadata": {},
   "outputs": [],
   "source": [
    "def save_to_csv(data, filename):\n",
    "    \"\"\"\n",
    "    Save the list of track data to a CSV file.\n",
    "    Params:\n",
    "    :param data: List of dictionaries containing track details.\n",
    "    :param filename: Output CSV file name.\n",
    "    \"\"\"\n",
    "    keys = data[0].keys() if data else []\n",
    "    with open(filename, mode='w', newline='', encoding='utf-8') as file:\n",
    "        writer = csv.DictWriter(file, fieldnames=keys)\n",
    "        writer.writeheader()\n",
    "        writer.writerows(data)\n",
    "    print(f\"Data saved to {filename}\")\n"
   ]
  },
  {
   "cell_type": "markdown",
   "metadata": {},
   "source": [
    "La requête suivante permet de constituer un premier dataset consitué des musiques de la playlist \"Top 10 000 songs of All-Time\":"
   ]
  },
  {
   "cell_type": "code",
   "execution_count": null,
   "metadata": {},
   "outputs": [],
   "source": [
    "get_playlists_data_to_csv(['1G8IpkZKobrIlXcVPoSIuf'])"
   ]
  },
  {
   "cell_type": "markdown",
   "metadata": {},
   "source": [
    "### I.1.b. Collecte du genre de la playlist"
   ]
  },
  {
   "cell_type": "markdown",
   "metadata": {},
   "source": [
    "Nous avons réussi à enregistrer une première version de notre df que nous visualiserons en partie I. 2. Cependant, cette approche ne nous donne que le genre de l'artiste et pas nécessairement de la playlist. C'est pourquoi nous avons décidé d'adapter certaines de nos fonctions afin de collecter le genre des playlists et de collecter les données de playlists aux genres spécifiques. Le genre de la playlist sera ensuite assimilé à celui de l'artiste. A cet effet, nous avons ajouté la fonction get_playlist_data_to_csv_with_genre"
   ]
  },
  {
   "cell_type": "code",
   "execution_count": 2,
   "metadata": {},
   "outputs": [],
   "source": [
    "def get_playlists_data_to_csv_with_genre(playlist_ids):\n",
    "    \"\"\"This function allows to fetch the data from different playlists into a csv \n",
    "    Params:\n",
    "        - playlist_ids: a dict whose keys are genres and values are playlists (strings)\n",
    "    \"\"\"\n",
    "    names=[]\n",
    "    track_data=[]\n",
    "    file_name=''\n",
    "    for key in playlist_ids.keys(): \n",
    "        print(f\"Fetching playlist {playlist_ids[key]} tracks...\")\n",
    "        tracks = fetch_playlist_tracks(playlist_ids[key])\n",
    "        print(\"Fetching track data...\")\n",
    "        track_data+=(fetch_track_data_without_genre(tracks, key))\n",
    "    for key1 in playlist_ids.keys():\n",
    "        names.append(spotify_client().playlist(playlist_ids[key1])['name'])\n",
    "    for name in names:\n",
    "        file_name+=name+'+'\n",
    "    file_name=file_name[:-1]\n",
    "    print(file_name)\n",
    "    if track_data:\n",
    "        save_to_csv(track_data, f\"playlists_{file_name}_data.csv\")"
   ]
  },
  {
   "cell_type": "markdown",
   "metadata": {},
   "source": [
    "Détaillons les fonctions appelées par cette fonction.fetch_track_data_without_genre permet d'obtenir les données d'une liste de chansons dont le genre est déjà connu"
   ]
  },
  {
   "cell_type": "code",
   "execution_count": 3,
   "metadata": {},
   "outputs": [],
   "source": [
    "def fetch_track_data_without_genre(tracks,genre):\n",
    "    \"\"\"\n",
    "    Fetch metadata and audio features for each track in the playlist knowing the genre of the playlist\n",
    "    Params:\n",
    "        -tracks: List of tracks from the playlist.\n",
    "    Returns a list of dictionaries containing track metadata and audio features.\n",
    "    \"\"\"\n",
    "    track_data = []\n",
    "    i=0\n",
    "    for track in tracks:\n",
    "        track_id = track['id']\n",
    "        i+=1\n",
    "        audio_features = spotify_client().audio_features([track_id])[0]\n",
    "        if audio_features:  # Ensure audio features are available\n",
    "            artist_name = \", \".join([artist['name'] for artist in track['artists']])\n",
    "            dict_track={\"track Name\": track['name'],\n",
    "                \"artists\": artist_name,\n",
    "                \"track_id\": track_id,\n",
    "                \"popularity\": track['popularity'],\n",
    "                \"duration_ms\": track['duration_ms'],\n",
    "                \"explicit\": track['explicit'], 'genre': genre}\n",
    "            for key in audio_features.keys():\n",
    "                dict_track[key]=audio_features[key]\n",
    "            track_data.append(dict_track)\n",
    "        if i==100:\n",
    "            j+=1\n",
    "            save_to_csv(track_data, f\"intermédiaire_realdb{j}\")\n",
    "            i=0\n",
    "            time.sleep(60)\n",
    "    return track_data"
   ]
  },
  {
   "cell_type": "markdown",
   "metadata": {},
   "source": [
    "Le genre est déjà connu car il s'agit de la clé utilisée lors des requêtes faites à la fonction get_playlist_data_to_csv_with_genre. Voici un exemple de requête:"
   ]
  },
  {
   "cell_type": "code",
   "execution_count": null,
   "metadata": {},
   "outputs": [],
   "source": [
    "get_playlists_data_to_csv_with_genre({'rap' : '4KsrGBWG6gzBwGe9dx16OE', \n",
    "                                      'country' : '33mU9g6y8nKFAOyiISor0G',\n",
    "                                      'blues' : '7BDUphylF8dfPKFo9Tvdr9',\n",
    "                                      'metal' : '1yYEy4MtNLVScj74wcPR7w',\n",
    "                                      'r_and_b' : '7CI3NR7rvCkgiLhch1qprf',\n",
    "                                      'classical_music' : '5n9btvMZ52rxwozhQdKU7v',\n",
    "                                      'jazz' : '79Bcltku1dcD08JcAM29kL',\n",
    "                                      'pop' : '7gqtGYFoCR3tAqTtEUQZTw'})"
   ]
  },
  {
   "cell_type": "markdown",
   "metadata": {},
   "source": [
    "Cette deuxième approche nous aurait permis de constituer un dataset plus précis mais nous n'avons pas pu la mettre en place. En effet, les conditions d'utilisation de l'API spotify ont été changées et il n'est plus possible de faire des requêtes donnant accès aux métadonnées des chansons. Notre Machine Learning utilisera donc un dataset Kaggle. Néanmoins, nous pouvons visualiser les données collectées en partie I.1.a"
   ]
  },
  {
   "cell_type": "markdown",
   "metadata": {},
   "source": [
    "## I.2. Visualisation"
   ]
  },
  {
   "cell_type": "markdown",
   "metadata": {},
   "source": [
    "Importons les modulees nécessaires"
   ]
  },
  {
   "cell_type": "code",
   "execution_count": 4,
   "metadata": {},
   "outputs": [],
   "source": [
    "import matplotlib.pyplot as plt\n",
    "import pandas as pd\n",
    "import numpy as np\n",
    "import seaborn as sns"
   ]
  },
  {
   "cell_type": "markdown",
   "metadata": {},
   "source": [
    "Ouverture de la base de données sous forme de Dataframe pandas et suppression de première colonnes inutiles (principalement des urls et popularity qui est indiquée comme n'étant que peu mise à jour)"
   ]
  },
  {
   "cell_type": "code",
   "execution_count": 7,
   "metadata": {},
   "outputs": [],
   "source": [
    "df=pd.read_csv('C:/Users/Conte/OneDrive/Desktop/PY-Music-Genre-Classifier/intermédiaire3.csv')"
   ]
  },
  {
   "cell_type": "code",
   "execution_count": null,
   "metadata": {},
   "outputs": [],
   "source": [
    "df.head()"
   ]
  },
  {
   "cell_type": "markdown",
   "metadata": {},
   "source": [
    "### I.2.a. Pré-Nettoyage"
   ]
  },
  {
   "cell_type": "code",
   "execution_count": 9,
   "metadata": {},
   "outputs": [],
   "source": [
    "df=df.drop(['track Name','track_id','type','id','uri','track_href', 'analysis_url'],axis=1)"
   ]
  },
  {
   "cell_type": "markdown",
   "metadata": {},
   "source": [
    "Il semble qu'il y ait de nombreux genres musicaux qui en réalité pourraient être considérés comme des sous-genres, nous allons donc les regrouper."
   ]
  },
  {
   "cell_type": "code",
   "execution_count": 10,
   "metadata": {},
   "outputs": [
    {
     "name": "stdout",
     "output_type": "stream",
     "text": [
      "['classic rock', 'grunge', 'british invasion', 'baroque pop', 'blues', 'classic soul', 'brill building pop', 'album rock', 'r&b', 'rock-and-roll', 'heartland rock', 'alternative rock', 'atl hip hop', 'escape room', 'bronx hip hop', 'adult standards', 'art rock', 'funk', 'motown', 'pop', 'acid rock', 'classic garage rock', 'dance pop', 'disco', 'madchester', 'britpop', 'downtempo', 'conscious hip hop', 'east coast hip hop', 'alternative dance', 'classic girl group', 'art pop', 'lilith', 'glam metal', 'blues rock', 'chicago rap', 'electro', 'beatlesque', 'piano rock', 'irish rock', 'europop', 'lgbtq+ hip hop', 'british soul', 'reggae', 'french shoegaze', 'country', 'big beat', 'barbadian pop', 'mellow gold', 'candy pop', 'canadian hip hop', 'classic soundtrack', 'american folk revival', 'garage rock', 'australian psych', 'afrofuturism', 'g funk', 'new romantic', 'australian dance', 'brooklyn indie', 'dusseldorf electronic', 'arkansas country', 'irish punk', 'louisiana blues', 'acoustic blues', 'chicago soul', 'doo-wop', 'boston rock', 'british blues', 'alternative metal', 'bebop', 'dance rock', 'glam rock', 'detroit hip hop', 'detroit rock', nan, 'australian rock', 'canadian singer-songwriter', 'ambient', 'chanson', 'hard rock', 'chicano punk', 'art punk', 'bubblegum pop', 'new wave', 'hip house', 'memphis soul', 'hot jazz', 'classic dubstep', 'big band', 'canadian pop', 'british folk', 'mod revival', 'classic country pop', 'acoustic punk', 'early us punk', 'bboy', 'chamber pop', 'electronica', 'hip hop', 'albuquerque indie', 'filter house', 'afrobeat', 'permanent wave', 'glam punk', 'lounge', 'alternative hip hop', 'cool jazz', 'belgian singer-songwriter', 'rock drums', 'alternative americana', 'traditional country', 'bedroom pop', 'celtic punk', 'dream pop', 'girl group', 'gospel', 'canadian indie', 'alternative country', 'torch song', 'jazz blues', 'folk', 'melancholia', 'bluegrass', 'dub', 'early synthpop', 'alternative r&b', 'modern alternative rock', 'space age pop', 'beach music', 'contemporary r&b', 'freestyle', 'experimental rock', 'grime', 'pub rock', 'new wave pop', 'african-american classical', 'canadian contemporary r&b', 'boy band', 'pop soul', 'modern rock', 'hip pop', 'surf music', 'pop rock', 'harlem renaissance', 'merseybeat', 'dirty south rap', 'movie tunes', 'dixieland', 'cosmic american', 'rap', 'bossa nova', 'acid house', 'edm', 'ambient pop', 'anti-folk', 'rhythm and blues', 'soft rock', 'french jazz', 'contemporary post-bop', 'furry', 'atmospheric dnb', 'gangster rap', 'birmingham hip hop', 'appalachian folk', 'ambient house', 'melodic rap', 'olympia wa indie', 'bakersfield sound', 'bluegrass gospel', 'uk alternative pop', 'experimental', 'jamaican ska', 'avant-garde jazz', 'latin alternative', 'hi-nrg', 'power pop', 'country rock', 'jazz organ', 'indietronica', 'experimental pop', 'alternative pop', 'ambient folk', 'balearic', 'australian pop', 'dance-punk', 'electropop', 'cleveland indie', 'birmingham grime', 'black punk', 'classic italian pop', 'tejano', 'afropop', 'classic uk pop', 'protopunk', 'bristol indie', 'alabama indie', 'cowboy western', 'danish pop']\n"
     ]
    }
   ],
   "source": [
    "genres=df['genre'].unique().tolist()\n",
    "print(genres)"
   ]
  },
  {
   "cell_type": "code",
   "execution_count": 15,
   "metadata": {},
   "outputs": [],
   "source": [
    "categories = {\n",
    "    \"rap\": [\n",
    "        'hip hop', 'rap', 'dirty south rap', 'melodic rap', 'conscious hip hop', 'alternative hip hop', 'chicago rap', \n",
    "        'bronx hip hop', 'detroit hip hop', 'gangster rap', 'canadian hip hop', 'atl hip hop', 'lgbtq+ hip hop', 'bboy', 'hip pop'\n",
    "    ],\n",
    "    \"rock\": [\n",
    "        'classic rock', 'album rock', 'alternative rock', 'dance rock', 'hard rock', 'soft rock', 'irish rock', 'piano rock', \n",
    "        'australian rock', 'detroit rock', 'british blues', 'garage rock', 'classic garage rock', 'glam rock', 'art rock', \n",
    "        'alternative metal', 'folk rock', 'country rock', 'protopunk', 'space rock', 'experimental rock', 'modern rock', \n",
    "        'surf music', 'pub rock', 'new wave', 'dance-punk'\n",
    "    ],\n",
    "    \"pop\": [\n",
    "        'pop', 'dance pop', 'pop rock', 'ambient pop', 'alternative pop', 'bedroom pop', 'canadian pop', 'british soul', \n",
    "        'classic country pop', 'barbadian pop', 'bubblegum pop', 'torch song', 'french shoegaze', 'new wave pop', \n",
    "        'brill building pop', 'beatlesque', 'britpop', 'art pop', 'candy pop','power pop','electropop', 'experimental pop'\n",
    "    ],\n",
    "    \"blues\": [\n",
    "        'blues', 'blues rock', 'classic soul', 'r&b', 'british blues', \n",
    "        'louisiana blues', 'acoustic blues'\n",
    "    ],\n",
    "    \"jazz\":['cool jazz', 'bebop', \n",
    "        'avant-garde jazz', 'big band', 'hot jazz', 'jazz blues', 'gospel', 'soul jazz'],\n",
    "    \"country\": [\n",
    "        'folk', 'american folk revival', 'appalachian folk', 'ambient folk', 'bluegrass', 'bluegrass gospel', 'celtic punk', \n",
    "        'country', 'country rock', 'bakersfield sound', 'arkansas country', 'cowboy western', 'alternative americana'\n",
    "    ],\n",
    "    \"electro\": [\n",
    "        'edm', 'house', 'acid house', 'ambient', 'ambient house', 'ambient pop', 'dance-punk', 'electro', 'indietronica', \n",
    "        'balearic', 'atmospheric dnb', 'filter house', 'hi-nrg', 'big beat'\n",
    "    ],\n",
    "    \"classical\": [\n",
    "        'african-american classical', 'baroque pop', 'torch song', 'classic soundtrack', 'adult standards'\n",
    "    ]\n",
    "}\n"
   ]
  },
  {
   "cell_type": "code",
   "execution_count": 16,
   "metadata": {},
   "outputs": [],
   "source": [
    "def assign_category(genre):\n",
    "    for category, keywords in categories.items():\n",
    "        if genre in keywords:\n",
    "            return category\n",
    "        elif genre=='N/A':\n",
    "            return \n",
    "    return \"other\"\n",
    "\n",
    "df[\"category\"] = df[\"genre\"].apply(assign_category)"
   ]
  },
  {
   "cell_type": "markdown",
   "metadata": {},
   "source": [
    "### I.2.b Visualisation des données"
   ]
  },
  {
   "cell_type": "markdown",
   "metadata": {},
   "source": [
    "Analysons tout d'abord les variables catégoriques de notre dataset:"
   ]
  },
  {
   "cell_type": "code",
   "execution_count": 17,
   "metadata": {},
   "outputs": [],
   "source": [
    "categorical_var = df.copy().select_dtypes(include=[\"object\"]).columns.to_list()\n",
    "categorical_var.extend([\"key\",\"mode\",\"time_signature\",\"explicit\"])"
   ]
  },
  {
   "cell_type": "code",
   "execution_count": null,
   "metadata": {},
   "outputs": [],
   "source": [
    "df[categorical_var].nunique()"
   ]
  },
  {
   "cell_type": "markdown",
   "metadata": {},
   "source": [
    "Pour les variables avec un faible nombre de valeurs différentes, nous allons les représenter sous forme d'histogramme"
   ]
  },
  {
   "cell_type": "code",
   "execution_count": null,
   "metadata": {},
   "outputs": [],
   "source": [
    "df_barplot = df[[\"explicit\",\"category\",\"mode\",\"time_signature\",\"key\"]].copy()\n",
    "plt.figure(figsize=(10,10))\n",
    "\n",
    "for c,var in enumerate(df_barplot.columns):\n",
    "  # compute frequency of each unique value\n",
    "  df_plot= df_barplot[var].value_counts(normalize=True).to_frame(\"frequency\").reset_index(names=var)\n",
    "  df_plot[\"frequency\"] = df_plot[\"frequency\"]*100\n",
    "\n",
    "  # plot the barplot\n",
    "  plt.subplot(3,2,c+1)\n",
    "  sns.barplot(data=df_plot, x=var, y=\"frequency\")\n",
    "  plt.title(str(var))\n",
    "  plt.xlabel(\"\")\n",
    "  plt.ylabel(\"\")\n",
    "\n",
    "plt.tight_layout()"
   ]
  },
  {
   "cell_type": "markdown",
   "metadata": {},
   "source": [
    "Nous observons que la catégorie qui est le regroupement du genre est très mal répartie, cela risque de poser problème pour notre modèle car il s'agit de la variable cible qui devrait être le mieux répartie possible."
   ]
  },
  {
   "cell_type": "markdown",
   "metadata": {},
   "source": [
    "Pour les colonnes 'artists' et 'genre' nous allons visualiser le top10 des artistes les plus représentés"
   ]
  },
  {
   "cell_type": "code",
   "execution_count": null,
   "metadata": {},
   "outputs": [],
   "source": [
    "# Pie chart for 'artists'\n",
    "artist_counts = df['artists'].value_counts().head(10) \n",
    "plt.figure(figsize=(10, 6))\n",
    "plt.pie(artist_counts, labels=artist_counts.index, autopct='%1.1f%%', startangle=140)\n",
    "plt.title('Top 10 Artists Distribution')\n",
    "plt.axis('equal')  \n",
    "plt.show()\n",
    "\n",
    "# Pie chart for 'genre'\n",
    "genre_counts = df['genre'].value_counts().head(10)  \n",
    "plt.figure(figsize=(10, 6))\n",
    "plt.pie(genre_counts, labels=genre_counts.index, autopct='%1.1f%%', startangle=140)\n",
    "plt.title('Top 10 Genres Distribution')\n",
    "plt.axis('equal')  \n",
    "plt.show()"
   ]
  },
  {
   "cell_type": "markdown",
   "metadata": {},
   "source": [
    "De même, la répartition des genres dans notre dataset n'est pas adaptée à notre problématique. Nous avons donc tenté l'approche détaillée en partie I.1.b. qui s'est avérée infructueuse du fait d'un changement de la politique de Spotify https://developer.spotify.com/blog/2024-11-27-changes-to-the-web-api nous allons donc, pour la suite utiliser un dataset de 30 000 musiques issu du site Kaggle https://www.kaggle.com/datasets/joebeachcapital/30000-spotify-songs"
   ]
  },
  {
   "cell_type": "markdown",
   "metadata": {},
   "source": [
    "# II. Prédiction à l'aide d'une base de données Kaggle"
   ]
  },
  {
   "cell_type": "markdown",
   "metadata": {},
   "source": [
    "## II.1. Préparation des données"
   ]
  },
  {
   "cell_type": "markdown",
   "metadata": {},
   "source": [
    "Importation des modules nécessaires"
   ]
  },
  {
   "cell_type": "code",
   "execution_count": null,
   "metadata": {},
   "outputs": [],
   "source": [
    "from scipy.stats import zscore\n",
    "from sklearn.preprocessing import StandardScaler\n",
    "from sklearn.linear_model import LinearRegression\n",
    "from sklearn.model_selection import train_test_split\n",
    "from sklearn.metrics import mean_absolute_error, r2_score\n",
    "from sklearn.ensemble import RandomForestRegressor\n",
    "from sklearn.model_selection import train_test_split\n",
    "from xgboost import XGBRegressor"
   ]
  },
  {
   "cell_type": "code",
   "execution_count": null,
   "metadata": {},
   "outputs": [],
   "source": [
    "df = pd.read_csv(\"/home/onyxia/PY-Music-Genre-Classifier/src/spotify_tracks.csv\")"
   ]
  }
 ],
 "metadata": {
  "kernelspec": {
   "display_name": "Python 3",
   "language": "python",
   "name": "python3"
  },
  "language_info": {
   "codemirror_mode": {
    "name": "ipython",
    "version": 3
   },
   "file_extension": ".py",
   "mimetype": "text/x-python",
   "name": "python",
   "nbconvert_exporter": "python",
   "pygments_lexer": "ipython3",
   "version": "3.10.10"
  }
 },
 "nbformat": 4,
 "nbformat_minor": 2
}
